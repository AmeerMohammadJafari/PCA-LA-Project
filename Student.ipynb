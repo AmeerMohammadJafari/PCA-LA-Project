{
 "cells": [
  {
   "cell_type": "markdown",
   "metadata": {},
   "source": [
    "<center>\n",
    "<div> \n",
    "<h1>\n",
    "AmirKabir University of Technology\n",
    "</h1>\n",
    "</div>\n",
    "<h1>\n",
    "Computer Engineering Department\n",
    "</h1>\n",
    "</div>\n",
    "<h2>\n",
    "4th Project of Applied Linear Algebra\n",
    "</h2>\n",
    "</div>\n",
    "<h2>\n",
    "Course Instructor: Dr. Nazerfard\n",
    "</h2>\n",
    "</div>\n",
    "<h2>\n",
    "Project Designer: AmirMohammad Jafari\n",
    "</h2>\n",
    "</div>\n",
    "</div>\n",
    "</center>"
   ]
  },
  {
   "cell_type": "markdown",
   "metadata": {},
   "source": [
    "#### Note:\n",
    "\n",
    "- **Answer Questions:** Ensure comprehensive answers to the provided questions within the report.\n",
    "- **Explain Methods:** Elaborate on the methodologies and techniques utilized for each project section within the report.\n",
    "- **Create ZIP File:** Compile a ZIP archive named `studentnumber_p4.zip` containing:\n",
    "  - `PCA.ipynb`: Your Jupyter Notebook file.\n",
    "  - `report.pdf`: A report encompassing:\n",
    "    - Answers to questions\n",
    "    - Detailed explanations of methods used\n",
    "- For more information on PCA, you can also look at [this documentation](https://scikit-learn.org/stable/modules/generated/sklearn.decomposition.PCA.html).\n"
   ]
  },
  {
   "cell_type": "markdown",
   "metadata": {},
   "source": [
    "### Understanding Covariance Matrix in 2D Gaussian Distribution\n",
    "\n",
    "#### Objective:\n",
    "1. **Generation and Analysis:** \n",
    "    - Generate a 2D Gaussian distribution along the X and Y axes independently, creating 10,000 points for each axis.\n",
    "    - Utilize the `numpy` library to create random points with Gaussian distribution for both axes.\n",
    "    - Calculate the covariance matrix for the generated dataset.\n",
    "    - Plot the generated points to visualize the distribution in a 2D space using `matplotlib`.\n",
    "  \n",
    "#### Intuition Explanation:\n",
    "1. Upon obtaining the covariance matrix, articulate your understanding of its significance within the context of the generated Gaussian distribution.\n",
    "2. Explain the meaning of the matrix's diagonal and off-diagonal elements. Discuss their implications for the relationship between the X and Y variables.\n"
   ]
  },
  {
   "cell_type": "code",
   "execution_count": 1,
   "metadata": {},
   "outputs": [],
   "source": [
    "# todo\n",
    "\n",
    "\n",
    "\n",
    "\n",
    "\n",
    "\n",
    "\n"
   ]
  },
  {
   "cell_type": "markdown",
   "metadata": {},
   "source": [
    "### Transformation of Gaussian Distribution using Matrix [[2, 0], [0, 3]]\n",
    "\n",
    "#### Objective:\n",
    "1. **Transformation and Observation:** \n",
    "    - Apply a matrix transformation to the previously generated Gaussian distribution using [[2, 0], [0, 3]].\n",
    "    - Calculate the covariance matrix for this new dataset\n",
    "    - Plot the transformed distribution to observe changes in its characteristics.\n",
    "\n",
    "#### Reasoning and Intuition:\n",
    "1. Explain the expected effects of applying the transformation matrix to the Gaussian distribution.\n",
    "2. Discuss how this specific matrix influences the scaling and orientation of the distribution, providing insights into the resulting plot.\n",
    "3. Analyze the effect of this transformation on the covariance matrix\n"
   ]
  },
  {
   "cell_type": "code",
   "execution_count": 2,
   "metadata": {},
   "outputs": [],
   "source": [
    "# todo\n",
    "\n",
    "\n",
    "\n",
    "\n",
    "\n",
    "\n",
    "\n"
   ]
  },
  {
   "cell_type": "markdown",
   "metadata": {},
   "source": [
    "### Further Transformation of Gaussian Distribution using Matrix [[2, 1], [1, 3]]\n",
    "\n",
    "#### Objective:\n",
    "1. **Application of Additional Transformation:** \n",
    "    - Apply a new matrix transformation to the existing Gaussian distribution using [[2, 1], [1, 3]].\n",
    "    - Calculate the covariance matrix for this new dataset\n",
    "    - Plot the distribution resulting from this transformation to visualize its alterations.\n",
    "  \n",
    "#### Reasoning and Intuition:\n",
    "1. Explain the anticipated effects of this new transformation matrix on the Gaussian distribution.\n",
    "2. Discuss how the matrix [[2, 1], [1, 3]] might alter the distribution's characteristics compared to the previous transformations.\n",
    "3. Analyze the effect of this transformation on the covariance matrix"
   ]
  },
  {
   "cell_type": "code",
   "execution_count": null,
   "metadata": {},
   "outputs": [],
   "source": [
    "# todo\n",
    "\n",
    "\n",
    "\n",
    "\n",
    "\n",
    "\n",
    "\n"
   ]
  },
  {
   "cell_type": "markdown",
   "metadata": {},
   "source": [
    "### Visualizing Eigenvectors and Eigenvalues of the Covariance Matrix\n",
    "\n",
    "#### Objective:\n",
    "1. **Eigenvectors and Eigenvalues Visualization:** \n",
    "    - Visualize the eigenvectors and eigenvalues obtained from the covariance matrix of the transformed Gaussian distribution.\n",
    "    - Represent scaled eigenvectors as arrows originating from the origin (0, 0) and indicate their corresponding eigenvalues on a 2D plot.\n",
    "  \n",
    "#### Interpretation and Analysis:\n",
    "1. Discuss the significance of eigenvectors and eigenvalues concerning the covariance matrix of the transformed Gaussian distribution.\n",
    "2. Explain how the directions and lengths (scaled by eigenvalues) of eigenvectors relate to the spread and orientation of the distribution, connecting this information to the plotted representation.\n"
   ]
  },
  {
   "cell_type": "code",
   "execution_count": null,
   "metadata": {},
   "outputs": [],
   "source": [
    "# todo\n",
    "\n",
    "\n",
    "\n",
    "\n",
    "\n",
    "\n",
    "\n"
   ]
  },
  {
   "cell_type": "markdown",
   "metadata": {},
   "source": [
    "### Projection onto Dominant Eigenvector\n",
    "\n",
    "#### Objective:\n",
    "1. **Projection onto Dominant Eigenvector:** \n",
    "    - Project the transformed Gaussian distribution onto its largest eigenvector.\n",
    "    - Visualize the original dataset alongside the projected points onto the dominant eigenvector.\n",
    "\n",
    "#### Interpretation:\n",
    "1. Discuss the significance of projecting data onto the dominant eigenvector of the covariance matrix.\n",
    "2. Explain how this process helps capture the maximum variance in the data and illustrate its impact on the original distribution in comparison to the projected points.\n"
   ]
  },
  {
   "cell_type": "code",
   "execution_count": null,
   "metadata": {},
   "outputs": [],
   "source": [
    "# todo\n",
    "\n",
    "\n",
    "\n",
    "\n",
    "\n",
    "\n",
    "\n"
   ]
  }
 ],
 "metadata": {
  "kernelspec": {
   "display_name": "Python 3",
   "language": "python",
   "name": "python3"
  },
  "language_info": {
   "codemirror_mode": {
    "name": "ipython",
    "version": 3
   },
   "file_extension": ".py",
   "mimetype": "text/x-python",
   "name": "python",
   "nbconvert_exporter": "python",
   "pygments_lexer": "ipython3",
   "version": "3.10.9"
  }
 },
 "nbformat": 4,
 "nbformat_minor": 2
}
